{
  "nbformat": 4,
  "nbformat_minor": 0,
  "metadata": {
    "colab": {
      "provenance": [],
      "authorship_tag": "ABX9TyMIVvK+E2VO+RIG4t3cy1eU",
      "include_colab_link": true
    },
    "kernelspec": {
      "name": "python3",
      "display_name": "Python 3"
    },
    "language_info": {
      "name": "python"
    }
  },
  "cells": [
    {
      "cell_type": "markdown",
      "metadata": {
        "id": "view-in-github",
        "colab_type": "text"
      },
      "source": [
        "<a href=\"https://colab.research.google.com/github/Mbigdeli2003/Game-Theory/blob/main/Nash_finder.ipynb\" target=\"_parent\"><img src=\"https://colab.research.google.com/assets/colab-badge.svg\" alt=\"Open In Colab\"/></a>"
      ]
    },
    {
      "cell_type": "code",
      "source": [
        "!pip install nashpy"
      ],
      "metadata": {
        "colab": {
          "base_uri": "https://localhost:8080/"
        },
        "id": "yWITLD0-PQb6",
        "outputId": "9673f234-13ed-486c-d671-fed06b35f951"
      },
      "execution_count": 2,
      "outputs": [
        {
          "output_type": "stream",
          "name": "stdout",
          "text": [
            "Collecting nashpy\n",
            "  Downloading nashpy-0.0.41-py3-none-any.whl (27 kB)\n",
            "Requirement already satisfied: numpy>=1.21.0 in /usr/local/lib/python3.10/dist-packages (from nashpy) (1.25.2)\n",
            "Requirement already satisfied: scipy>=0.19.0 in /usr/local/lib/python3.10/dist-packages (from nashpy) (1.11.4)\n",
            "Requirement already satisfied: networkx>=3.0.0 in /usr/local/lib/python3.10/dist-packages (from nashpy) (3.3)\n",
            "Collecting deprecated>=1.2.14 (from nashpy)\n",
            "  Downloading Deprecated-1.2.14-py2.py3-none-any.whl (9.6 kB)\n",
            "Requirement already satisfied: wrapt<2,>=1.10 in /usr/local/lib/python3.10/dist-packages (from deprecated>=1.2.14->nashpy) (1.14.1)\n",
            "Installing collected packages: deprecated, nashpy\n",
            "Successfully installed deprecated-1.2.14 nashpy-0.0.41\n"
          ]
        }
      ]
    },
    {
      "cell_type": "code",
      "execution_count": 6,
      "metadata": {
        "colab": {
          "base_uri": "https://localhost:8080/"
        },
        "id": "mJRZiOyEPFsM",
        "outputId": "61f27935-4061-46e7-ea16-c8343b1bcf43"
      },
      "outputs": [
        {
          "output_type": "stream",
          "name": "stdout",
          "text": [
            "Nash equilibria:\n",
            "(array([0., 0., 1.]), array([1., 0., 0.]))\n"
          ]
        },
        {
          "output_type": "execute_result",
          "data": {
            "text/plain": [
              "Bi matrix game with payoff matrices:\n",
              "\n",
              "Row player:\n",
              "[[1 3 2]\n",
              " [0 2 5]\n",
              " [6 1 4]]\n",
              "\n",
              "Column player:\n",
              "[[1 0 6]\n",
              " [3 2 1]\n",
              " [6 1 4]]"
            ]
          },
          "metadata": {},
          "execution_count": 6
        }
      ],
      "source": [
        "import nashpy as nash\n",
        "import numpy as np\n",
        "\n",
        "# Define the payoff matrices for both players\n",
        "A = np.array([[1, 3, 2],\n",
        "              [0, 2, 5],\n",
        "              [6, 1, 4]])\n",
        "\n",
        "B = np.array([[1, 0, 6],\n",
        "              [3, 2, 1],\n",
        "              [6, 1, 4]])\n",
        "\n",
        "# Create the game\n",
        "game = nash.Game(A, B)\n",
        "\n",
        "# Calculate Nash equilibria\n",
        "equilibria = game.support_enumeration()\n",
        "\n",
        "# Print the Nash equilibria\n",
        "print(\"Nash equilibria:\")\n",
        "for eq in equilibria:\n",
        "    print(eq)\n",
        "game"
      ]
    },
    {
      "cell_type": "code",
      "source": [],
      "metadata": {
        "id": "281r_jEdsMcd"
      },
      "execution_count": null,
      "outputs": []
    }
  ]
}